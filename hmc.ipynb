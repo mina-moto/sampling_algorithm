{
 "cells": [
  {
   "cell_type": "markdown",
   "metadata": {
    "collapsed": true,
    "pycharm": {
     "name": "#%% md\n"
    }
   },
   "source": [
    "# HMC法"
   ]
  },
  {
   "cell_type": "code",
   "execution_count": 7,
   "metadata": {
    "pycharm": {
     "is_executing": false,
     "name": "#%%\n"
    }
   },
   "outputs": [],
   "source": [
    "import math\n",
    "import random\n",
    "import numpy as np\n",
    "import matplotlib.pyplot as plt\n",
    "from scipy import stats\n",
    "from numpy.random import choice\n",
    "from scipy import integrate"
   ]
  },
  {
   "cell_type": "code",
   "execution_count": 8,
   "metadata": {
    "pycharm": {
     "is_executing": false,
     "name": "#%%\n"
    }
   },
   "outputs": [
    {
     "data": {
      "image/png": "[encoded data removed]",
      "text/plain": [
       "<Figure size 432x288 with 1 Axes>"
      ]
     },
     "metadata": {
      "needs_background": "light"
     },
     "output_type": "display_data"
    }
   ],
   "source": [
    "# [0,12]の1000個のデータ\n",
    "range_min,range_max=-4,4\n",
    "n_samples=1000\n",
    "x=np.linspace(range_min, range_max,n_samples)\n",
    "\n",
    "norm=stats.norm(loc=0, scale=1)\n",
    "gamma=stats.gamma(a=4)\n",
    "# 正規化定数,\n",
    "Z_p=2\n",
    "# p(z),gauss\n",
    "def childa_p(z):\n",
    "    # return gamma.pdf(z)*Z_p\n",
    "    return norm.pdf(z)*Z_p\n",
    "\n",
    "# p(z),正規化された値，サンプリングできない，特定の範囲では厳密には確率分布ではない\n",
    "p_data=childa_p(x)/Z_p\n",
    "plt.plot(x,p_data,label='$p$')\n",
    "\n",
    "# サンプリング可能な~p(z)\n",
    "childa_p_data=childa_p(x)\n",
    "plt.plot(x,childa_p_data,label='$\\~p$')\n",
    "\n",
    "plt.legend()\n",
    "plt.show()"
   ]
  },
  {
   "cell_type": "code",
   "execution_count": 9,
   "metadata": {
    "pycharm": {
     "is_executing": false,
     "name": "#%%\n"
    }
   },
   "outputs": [],
   "source": [
    "mu=0\n",
    "sigma=1"
   ]
  },
  {
   "cell_type": "code",
   "execution_count": 10,
   "metadata": {
    "pycharm": {
     "is_executing": false,
     "name": "#%%\n"
    }
   },
   "outputs": [],
   "source": [
    "def potensial(x):\n",
    "    return -1*np.log(childa_p(x))\n",
    "\n",
    "# 運動エネルギー\n",
    "def momentum(p, tau):\n",
    "    return p**2/(2*tau**2)\n",
    "\n",
    "# ハミルトニアン\n",
    "# 運動エネルギーとポテンシャルエネルギーの和\n",
    "def Hamiltonian(x, p, tau):\n",
    "    return momentum(p, tau) + potensial(x)\n",
    "\n",
    "# リープ・フロッグ法\n",
    "def proceed_leapflog(epsilon, x, p, tau):\n",
    "    # 運動エネルギーの導関数\n",
    "    def d_momentum(p, tau):\n",
    "        return p/tau**2\n",
    "    \n",
    "    x += -0.5*epsilon*d_momentum(p, tau)\n",
    "    p += epsilon*x\n",
    "    x += -0.5*epsilon*d_momentum(p, tau)\n",
    "    \n",
    "    return x, p"
   ]
  },
  {
   "cell_type": "code",
   "execution_count": 11,
   "metadata": {
    "pycharm": {
     "is_executing": false,
     "name": "#%%\n"
    }
   },
   "outputs": [],
   "source": [
    "global acceptance_count,sampling_count\n",
    "acceptance_count,sampling_count=0,0\n",
    "def hmc(prev, tau, epsilon, T):\n",
    "    '''\n",
    "    HMCを１ステップ実行するサブルーチン\n",
    "    :param prev: 前の状態\n",
    "    :param tau: 運動量が従う正規分布の分散\n",
    "    :param epsilon: リープ・フロッグ法の1ステップあたりの状態変化の大きさ\n",
    "    :param T: リープ・フロッグ法の状態変化の回数\n",
    "    :return: \n",
    "    '''\n",
    "    global acceptance_count,sampling_count\n",
    "    # 運動量pをサンプリング\n",
    "    p_prev = np.random.normal(0, tau, size=1)[0]\n",
    "    p_new = p_prev\n",
    "    x_new= prev\n",
    "    for t in range(T):\n",
    "        x_new, p_new = proceed_leapflog(epsilon, x_new, p_new, tau)\n",
    "        \n",
    "    r = np.exp(Hamiltonian(prev, p_prev, tau) - Hamiltonian(x_new, p_new, tau))\n",
    "    # if r<0.5:\n",
    "    #     print(r)\n",
    "    u = np.random.uniform()\n",
    "    sampling_count+=1\n",
    "    if u <= r:\n",
    "        x_accepted = x_new\n",
    "        acceptance_count+=1\n",
    "    else:\n",
    "        x_accepted = prev\n",
    "    return x_accepted\n",
    "\n",
    "def proceed_HMC(tau, epsilon, T, N, init):\n",
    "    '''\n",
    "    :param tau: 運動量pが従う正規分布の分散\n",
    "    :param epsilon: リープ・フロッグ法の1ステップあたりの状態変化の大きさ\n",
    "    :param T: リープ・フロッグ法の状態変化の回数 \n",
    "    :param N: サンプリング数\n",
    "    :param init: サンプルの初期値\n",
    "    :return: \n",
    "    '''\n",
    "    # HMCを実行する関数\n",
    "    # sample 初期化\n",
    "    sample=init\n",
    "    samples=[]\n",
    "    for i in range(N):\n",
    "        sample=hmc(sample, tau, epsilon, T)\n",
    "        samples.append(sample)\n",
    "    return samples"
   ]
  },
  {
   "cell_type": "code",
   "execution_count": 22,
   "metadata": {
    "pycharm": {
     "is_executing": false,
     "name": "#%%\n"
    }
   },
   "outputs": [
    {
     "data": {
      "text/plain": [
       "(array([0.03662091, 0.01831045, 0.01831045, 0.01831045, 0.07324181,\n",
       "        0.05493136, 0.10986272, 0.03662091, 0.05493136, 0.10986272,\n",
       "        0.03662091, 0.09155226, 0.05493136, 0.10986272, 0.03662091,\n",
       "        0.09155226, 0.20141498, 0.09155226, 0.14648362, 0.12817317,\n",
       "        0.23803588, 0.12817317, 0.14648362, 0.20141498, 0.21972543,\n",
       "        0.31127769, 0.32958815, 0.25634634, 0.29296724, 0.36620905,\n",
       "        0.23803588, 0.42114041, 0.21972543, 0.32958815, 0.31127769,\n",
       "        0.29296724, 0.43945086, 0.29296724, 0.32958815, 0.36620905,\n",
       "        0.27465679, 0.60424493, 0.49438222, 0.47607177, 0.31127769,\n",
       "        0.27465679, 0.45776131, 0.42114041, 0.3478986 , 0.43945086,\n",
       "        0.53100312, 0.3478986 , 0.3478986 , 0.32958815, 0.31127769,\n",
       "        0.3845195 , 0.36620905, 0.23803588, 0.23803588, 0.27465679,\n",
       "        0.31127769, 0.25634634, 0.21972543, 0.27465679, 0.16479407,\n",
       "        0.20141498, 0.18310453, 0.23803588, 0.18310453, 0.18310453,\n",
       "        0.16479407, 0.12817317, 0.14648362, 0.09155226, 0.12817317,\n",
       "        0.10986272, 0.14648362, 0.03662091, 0.05493136, 0.03662091,\n",
       "        0.01831045, 0.05493136, 0.03662091, 0.03662091, 0.03662091,\n",
       "        0.        , 0.        , 0.01831045, 0.        , 0.01831045,\n",
       "        0.03662091, 0.01831045, 0.        , 0.        , 0.        ,\n",
       "        0.        , 0.        , 0.        , 0.        , 0.05493136]),\n",
       " array([-2.41067005, -2.35605644, -2.30144282, -2.24682921, -2.19221559,\n",
       "        -2.13760198, -2.08298836, -2.02837475, -1.97376113, -1.91914752,\n",
       "        -1.8645339 , -1.80992029, -1.75530667, -1.70069306, -1.64607944,\n",
       "        -1.59146583, -1.53685221, -1.4822386 , -1.42762499, -1.37301137,\n",
       "        -1.31839776, -1.26378414, -1.20917053, -1.15455691, -1.0999433 ,\n",
       "        -1.04532968, -0.99071607, -0.93610245, -0.88148884, -0.82687522,\n",
       "        -0.77226161, -0.71764799, -0.66303438, -0.60842076, -0.55380715,\n",
       "        -0.49919354, -0.44457992, -0.38996631, -0.33535269, -0.28073908,\n",
       "        -0.22612546, -0.17151185, -0.11689823, -0.06228462, -0.007671  ,\n",
       "         0.04694261,  0.10155623,  0.15616984,  0.21078346,  0.26539707,\n",
       "         0.32001069,  0.3746243 ,  0.42923792,  0.48385153,  0.53846514,\n",
       "         0.59307876,  0.64769237,  0.70230599,  0.7569196 ,  0.81153322,\n",
       "         0.86614683,  0.92076045,  0.97537406,  1.02998768,  1.08460129,\n",
       "         1.13921491,  1.19382852,  1.24844214,  1.30305575,  1.35766937,\n",
       "         1.41228298,  1.4668966 ,  1.52151021,  1.57612382,  1.63073744,\n",
       "         1.68535105,  1.73996467,  1.79457828,  1.8491919 ,  1.90380551,\n",
       "         1.95841913,  2.01303274,  2.06764636,  2.12225997,  2.17687359,\n",
       "         2.2314872 ,  2.28610082,  2.34071443,  2.39532805,  2.44994166,\n",
       "         2.50455528,  2.55916889,  2.6137825 ,  2.66839612,  2.72300973,\n",
       "         2.77762335,  2.83223696,  2.88685058,  2.94146419,  2.99607781,\n",
       "         3.05069142]),\n",
       " <a list of 100 Patch objects>)"
      ]
     },
     "execution_count": 22,
     "metadata": {},
     "output_type": "execute_result"
    },
    {
     "data": {
      "image/png": "[encoded data removed]",
      "text/plain": [
       "<Figure size 432x288 with 1 Axes>"
      ]
     },
     "metadata": {
      "needs_background": "light"
     },
     "output_type": "display_data"
    }
   ],
   "source": [
    "init = 0\n",
    "theta = proceed_HMC(tau=2, epsilon=0.01, T=1000, N=1000, init=init)\n",
    "plt.plot(x,p_data)\n",
    "plt.hist(theta, bins=100,density=True)"
   ]
  },
  {
   "cell_type": "code",
   "execution_count": 23,
   "metadata": {
    "pycharm": {
     "is_executing": false,
     "name": "#%%\n"
    }
   },
   "outputs": [
    {
     "data": {
      "text/plain": [
       "1.0"
      ]
     },
     "execution_count": 23,
     "metadata": {},
     "output_type": "execute_result"
    }
   ],
   "source": [
    "acceptance_rate=acceptance_count/sampling_count\n",
    "acceptance_rate"
   ]
  },
  {
   "cell_type": "code",
   "execution_count": null,
   "metadata": {
    "pycharm": {
     "name": "#%%\n"
    }
   },
   "outputs": [],
   "source": [
    "\n"
   ]
  }
 ],
 "metadata": {
  "kernelspec": {
   "display_name": "Python 3",
   "language": "python",
   "name": "python3"
  },
  "language_info": {
   "codemirror_mode": {
    "name": "ipython",
    "version": 3
   },
   "file_extension": ".py",
   "mimetype": "text/x-python",
   "name": "python",
   "nbconvert_exporter": "python",
   "pygments_lexer": "ipython3",
   "version": "3.7.5"
  },
  "pycharm": {
   "stem_cell": {
    "cell_type": "raw",
    "metadata": {
     "collapsed": false
    },
    "source": []
   }
  }
 },
 "nbformat": 4,
 "nbformat_minor": 1
}
