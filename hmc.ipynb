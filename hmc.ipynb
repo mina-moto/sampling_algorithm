{
 "cells": [
  {
   "cell_type": "markdown",
   "metadata": {
    "collapsed": true,
    "pycharm": {
     "name": "#%% md\n"
    }
   },
   "source": [
    "# HMC法"
   ]
  },
  {
   "cell_type": "code",
   "execution_count": 20,
   "outputs": [],
   "source": [
    "import math\n",
    "import random\n",
    "import numpy as np\n",
    "import matplotlib.pyplot as plt\n",
    "from scipy import stats\n",
    "from numpy.random import choice\n",
    "from scipy import integrate"
   ],
   "metadata": {
    "collapsed": false,
    "pycharm": {
     "name": "#%%\n",
     "is_executing": false
    }
   }
  },
  {
   "cell_type": "code",
   "execution_count": 21,
   "outputs": [
    {
     "data": {
      "text/plain": "<Figure size 432x288 with 1 Axes>",
      "image/png": "[encoded data removed]"
     },
     "metadata": {
      "needs_background": "light"
     },
     "output_type": "display_data"
    }
   ],
   "source": [
    "# [0,12]の1000個のデータ\n",
    "range_min,range_max=0,12\n",
    "n_samples=1000\n",
    "x=np.linspace(range_min, range_max,n_samples)\n",
    "\n",
    "norm=stats.norm(loc=0, scale=1)\n",
    "gamma=stats.gamma(a=4)\n",
    "# 正規化定数,\n",
    "Z_p=2\n",
    "# p(z),gauss\n",
    "def childa_p(z):\n",
    "    return gamma.pdf(z)*Z_p\n",
    "    # return norm.pdf(z)*Z_p\n",
    "\n",
    "# p(z),正規化された値，サンプリングできない，特定の範囲では厳密には確率分布ではない\n",
    "p_data=childa_p(x)/Z_p\n",
    "plt.plot(x,p_data,label='$p$')\n",
    "\n",
    "# サンプリング可能な~p(z)\n",
    "childa_p_data=childa_p(x)\n",
    "plt.plot(x,childa_p_data,label='$\\~p$')\n",
    "\n",
    "plt.legend()\n",
    "plt.show()"
   ],
   "metadata": {
    "collapsed": false,
    "pycharm": {
     "name": "#%%\n",
     "is_executing": false
    }
   }
  },
  {
   "cell_type": "code",
   "execution_count": 22,
   "outputs": [],
   "source": [
    "global mu, sigma\n",
    "mu=0\n",
    "sigma=1"
   ],
   "metadata": {
    "collapsed": false,
    "pycharm": {
     "name": "#%%\n",
     "is_executing": false
    }
   }
  },
  {
   "cell_type": "code",
   "execution_count": 23,
   "outputs": [],
   "source": [
    "def log_childa_p(z):\n",
    "    # \n",
    "    return np.log(childa_p(z))\n",
    "\n",
    "def log_normal(x, mu, sigma):\n",
    "    return -0.5*np.log(2*np.pi*sigma**2) - (x-mu)**2/(2*sigma**2)\n",
    "\n",
    "# 運動エネルギー\n",
    "def momentum(p, tau):\n",
    "    return p**2/(2*tau**2)\n",
    "\n",
    "# ハミルトニアン\n",
    "# 運動エネルギーとポテンシャルエネルギーの和\n",
    "def Hamiltonian(x, p, tau):\n",
    "    global mu, sigma\n",
    "    \n",
    "    return momentum(p, tau) + (-1.*log_normal(x, mu, sigma))\n",
    "\n",
    "# リープ・フロッグ法\n",
    "def proceed_leapflog(epsilon, x, p, tau):\n",
    "    global mu, sigma\n",
    "    \n",
    "    # Log probabilityの導関数\n",
    "    def d_log_normal(x, mu, sigma):\n",
    "        return -(x-mu)/sigma**2\n",
    "    # 運動エネルギーの導関数\n",
    "    def d_momentum(p, tau):\n",
    "        return  p/tau**2\n",
    "    \n",
    "    x += -0.5*epsilon*(-1.*d_momentum(p, tau))\n",
    "    p += epsilon*d_log_normal(x, mu, sigma)\n",
    "    x += -epsilon*(-1.*d_momentum(p, tau))\n",
    "    \n",
    "    return x, p"
   ],
   "metadata": {
    "collapsed": false,
    "pycharm": {
     "name": "#%%\n",
     "is_executing": false
    }
   }
  },
  {
   "cell_type": "code",
   "execution_count": 42,
   "outputs": [],
   "source": [
    "# HMCを１ステップ実行するサブルーチン\n",
    "def hmc(x, tau, epsilon, T):\n",
    "    '''\n",
    "    \n",
    "    :param x: \n",
    "    :param tau: 運動量pが従う正規分布の分散\n",
    "    :param epsilon: リープ・フロッグ法の1ステップあたりの状態変化の大きさ\n",
    "    :param T: リープ・フロッグ法の状態変化の回数\n",
    "    :return: \n",
    "    '''\n",
    "\n",
    "    p = np.random.normal(0, tau, size=1)[0]\n",
    "    p_new = p\n",
    "    x_new= x\n",
    "    for t in range(T):\n",
    "        x_new, p_new = proceed_leapflog(epsilon, x_new, p_new, tau)\n",
    "        \n",
    "    r = np.exp(Hamiltonian(x, p, tau) - Hamiltonian(x_new, p_new, tau))\n",
    "    u = np.random.uniform()\n",
    "    if u < r:\n",
    "        x_accepted = x_new\n",
    "    else:\n",
    "        x_accepted = x\n",
    "        \n",
    "    return x_accepted\n",
    "\n",
    "def proceed_HMC(tau, epsilon, T, ite, init):\n",
    "    # HMCを実行する関数\n",
    "    # sample 初期化\n",
    "    sample=init\n",
    "    samples=[]\n",
    "    for i in range(ite):\n",
    "        sample=hmc(sample, tau, epsilon, T)\n",
    "        samples.append(sample)\n",
    "    \n",
    "    return samples"
   ],
   "metadata": {
    "collapsed": false,
    "pycharm": {
     "name": "#%%\n",
     "is_executing": false
    }
   }
  },
  {
   "cell_type": "code",
   "execution_count": 43,
   "outputs": [],
   "source": [
    "init = 0\n",
    "theta = proceed_HMC(tau=2, epsilon=0.1, T=10, ite=1000, init=init)"
   ],
   "metadata": {
    "collapsed": false,
    "pycharm": {
     "name": "#%%\n",
     "is_executing": false
    }
   }
  },
  {
   "cell_type": "code",
   "execution_count": 45,
   "outputs": [
    {
     "data": {
      "text/plain": "(array([0.03368619, 0.        , 0.01684309, 0.01684309, 0.        ,\n        0.        , 0.        , 0.03368619, 0.        , 0.        ,\n        0.        , 0.03368619, 0.03368619, 0.        , 0.03368619,\n        0.03368619, 0.01684309, 0.05052928, 0.03368619, 0.08421547,\n        0.05052928, 0.11790165, 0.06737237, 0.08421547, 0.13474475,\n        0.15158784, 0.15158784, 0.20211712, 0.15158784, 0.18527403,\n        0.18527403, 0.11790165, 0.23580331, 0.2526464 , 0.2526464 ,\n        0.28633259, 0.20211712, 0.35370496, 0.45476352, 0.42107734,\n        0.21896021, 0.30317568, 0.32001877, 0.35370496, 0.32001877,\n        0.28633259, 0.47160662, 0.33686187, 0.42107734, 0.30317568,\n        0.58950827, 0.48844971, 0.37054806, 0.42107734, 0.47160662,\n        0.42107734, 0.32001877, 0.35370496, 0.32001877, 0.28633259,\n        0.38739115, 0.28633259, 0.38739115, 0.21896021, 0.42107734,\n        0.26948949, 0.33686187, 0.13474475, 0.23580331, 0.32001877,\n        0.11790165, 0.13474475, 0.18527403, 0.15158784, 0.10105856,\n        0.32001877, 0.08421547, 0.15158784, 0.15158784, 0.05052928,\n        0.05052928, 0.03368619, 0.03368619, 0.05052928, 0.05052928,\n        0.05052928, 0.03368619, 0.05052928, 0.01684309, 0.01684309,\n        0.03368619, 0.01684309, 0.03368619, 0.        , 0.        ,\n        0.01684309, 0.        , 0.01684309, 0.01684309, 0.01684309]),\n array([-3.01171111, -2.9523396 , -2.89296808, -2.83359656, -2.77422505,\n        -2.71485353, -2.65548201, -2.5961105 , -2.53673898, -2.47736747,\n        -2.41799595, -2.35862443, -2.29925292, -2.2398814 , -2.18050988,\n        -2.12113837, -2.06176685, -2.00239533, -1.94302382, -1.8836523 ,\n        -1.82428078, -1.76490927, -1.70553775, -1.64616623, -1.58679472,\n        -1.5274232 , -1.46805168, -1.40868017, -1.34930865, -1.28993713,\n        -1.23056562, -1.1711941 , -1.11182258, -1.05245107, -0.99307955,\n        -0.93370803, -0.87433652, -0.814965  , -0.75559348, -0.69622197,\n        -0.63685045, -0.57747893, -0.51810742, -0.4587359 , -0.39936438,\n        -0.33999287, -0.28062135, -0.22124983, -0.16187832, -0.1025068 ,\n        -0.04313528,  0.01623623,  0.07560775,  0.13497927,  0.19435078,\n         0.2537223 ,  0.31309381,  0.37246533,  0.43183685,  0.49120836,\n         0.55057988,  0.6099514 ,  0.66932291,  0.72869443,  0.78806595,\n         0.84743746,  0.90680898,  0.9661805 ,  1.02555201,  1.08492353,\n         1.14429505,  1.20366656,  1.26303808,  1.3224096 ,  1.38178111,\n         1.44115263,  1.50052415,  1.55989566,  1.61926718,  1.6786387 ,\n         1.73801021,  1.79738173,  1.85675325,  1.91612476,  1.97549628,\n         2.0348678 ,  2.09423931,  2.15361083,  2.21298235,  2.27235386,\n         2.33172538,  2.3910969 ,  2.45046841,  2.50983993,  2.56921145,\n         2.62858296,  2.68795448,  2.747326  ,  2.80669751,  2.86606903,\n         2.92544055]),\n <a list of 100 Patch objects>)"
     },
     "metadata": {},
     "output_type": "execute_result",
     "execution_count": 45
    },
    {
     "data": {
      "text/plain": "<Figure size 432x288 with 1 Axes>",
      "image/png": "[encoded data removed]"
     },
     "metadata": {
      "needs_background": "light"
     },
     "output_type": "display_data"
    }
   ],
   "source": [
    "plt.plot(np.linspace(-4, 4,n_samples),p_data,label='$\\~p$')\n",
    "plt.hist(theta, bins=100,density=True)"
   ],
   "metadata": {
    "collapsed": false,
    "pycharm": {
     "name": "#%%\n",
     "is_executing": false
    }
   }
  },
  {
   "cell_type": "code",
   "execution_count": 26,
   "outputs": [],
   "source": [
    "# # サンプル数\n",
    "# N = 1000\n",
    "# #初期値\n",
    "# sample=0\n",
    "# samples=[]\n",
    "# for i in range(N):\n",
    "#     sample = sampling(sample)\n",
    "#     samples.append(sample)\n",
    "# plt.plot(x, p_data)\n",
    "# plt.hist(samples, bins=100,density=True)\n",
    "# plt.show()"
   ],
   "metadata": {
    "collapsed": false,
    "pycharm": {
     "name": "#%%\n",
     "is_executing": false
    }
   }
  },
  {
   "cell_type": "code",
   "execution_count": 26,
   "outputs": [],
   "source": [
    "\n"
   ],
   "metadata": {
    "collapsed": false,
    "pycharm": {
     "name": "#%%\n",
     "is_executing": false
    }
   }
  }
 ],
 "metadata": {
  "kernelspec": {
   "display_name": "Python 3",
   "language": "python",
   "name": "python3"
  },
  "language_info": {
   "codemirror_mode": {
    "name": "ipython",
    "version": 2
   },
   "file_extension": ".py",
   "mimetype": "text/x-python",
   "name": "python",
   "nbconvert_exporter": "python",
   "pygments_lexer": "ipython2",
   "version": "2.7.6"
  },
  "pycharm": {
   "stem_cell": {
    "cell_type": "raw",
    "source": [],
    "metadata": {
     "collapsed": false
    }
   }
  }
 },
 "nbformat": 4,
 "nbformat_minor": 0
}