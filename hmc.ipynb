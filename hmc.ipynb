{
 "cells": [
  {
   "cell_type": "markdown",
   "metadata": {
    "collapsed": true,
    "pycharm": {
     "name": "#%% md\n"
    }
   },
   "source": [
    "# HMC法"
   ]
  },
  {
   "cell_type": "code",
   "execution_count": 196,
   "outputs": [],
   "source": [
    "import math\n",
    "import random\n",
    "import numpy as np\n",
    "import matplotlib.pyplot as plt\n",
    "from scipy import stats\n",
    "from numpy.random import choice\n",
    "from scipy import integrate"
   ],
   "metadata": {
    "collapsed": false,
    "pycharm": {
     "name": "#%%\n",
     "is_executing": false
    }
   }
  },
  {
   "cell_type": "code",
   "execution_count": 197,
   "outputs": [
    {
     "data": {
      "text/plain": "<Figure size 432x288 with 1 Axes>",
      "image/png": "[encoded data removed]"
     },
     "metadata": {
      "needs_background": "light"
     },
     "output_type": "display_data"
    }
   ],
   "source": [
    "# [0,12]の1000個のデータ\n",
    "range_min,range_max=-4,4\n",
    "n_samples=1000\n",
    "x=np.linspace(range_min, range_max,n_samples)\n",
    "\n",
    "norm=stats.norm(loc=0, scale=1)\n",
    "gamma=stats.gamma(a=4)\n",
    "# 正規化定数,\n",
    "Z_p=2\n",
    "# p(z),gauss\n",
    "def childa_p(z):\n",
    "    # return gamma.pdf(z)*Z_p\n",
    "    return norm.pdf(z)*Z_p\n",
    "\n",
    "# p(z),正規化された値，サンプリングできない，特定の範囲では厳密には確率分布ではない\n",
    "p_data=childa_p(x)/Z_p\n",
    "plt.plot(x,p_data,label='$p$')\n",
    "\n",
    "# サンプリング可能な~p(z)\n",
    "childa_p_data=childa_p(x)\n",
    "plt.plot(x,childa_p_data,label='$\\~p$')\n",
    "\n",
    "plt.legend()\n",
    "plt.show()"
   ],
   "metadata": {
    "collapsed": false,
    "pycharm": {
     "name": "#%%\n",
     "is_executing": false
    }
   }
  },
  {
   "cell_type": "code",
   "execution_count": 198,
   "outputs": [],
   "source": [
    "mu=0\n",
    "sigma=1"
   ],
   "metadata": {
    "collapsed": false,
    "pycharm": {
     "name": "#%%\n",
     "is_executing": false
    }
   }
  },
  {
   "cell_type": "code",
   "execution_count": 199,
   "outputs": [],
   "source": [
    "def potensial(x):\n",
    "    return -1*np.log(childa_p(x))\n",
    "\n",
    "# 運動エネルギー\n",
    "def momentum(p, tau):\n",
    "    return p**2/(2*tau**2)\n",
    "\n",
    "# ハミルトニアン\n",
    "# 運動エネルギーとポテンシャルエネルギーの和\n",
    "def Hamiltonian(x, p, tau):\n",
    "    return momentum(p, tau) + potensial(x)\n",
    "\n",
    "# リープ・フロッグ法\n",
    "def proceed_leapflog(epsilon, x, p, tau):\n",
    "    # 運動エネルギーの導関数\n",
    "    def d_momentum(p, tau):\n",
    "        return p/tau**2\n",
    "    \n",
    "    x += -0.5*epsilon*d_momentum(p, tau)\n",
    "    p += epsilon*x\n",
    "    x += -0.5*epsilon*d_momentum(p, tau)\n",
    "    \n",
    "    return x, p"
   ],
   "metadata": {
    "collapsed": false,
    "pycharm": {
     "name": "#%%\n",
     "is_executing": false
    }
   }
  },
  {
   "cell_type": "code",
   "execution_count": 200,
   "outputs": [],
   "source": [
    "def hmc(prev, tau, epsilon, T):\n",
    "    '''\n",
    "    HMCを１ステップ実行するサブルーチン\n",
    "    :param prev: 前の状態\n",
    "    :param tau: 運動量が従う正規分布の分散\n",
    "    :param epsilon: リープ・フロッグ法の1ステップあたりの状態変化の大きさ\n",
    "    :param T: リープ・フロッグ法の状態変化の回数\n",
    "    :return: \n",
    "    '''\n",
    "    # 運動量pをサンプリング\n",
    "    p_prev = np.random.normal(0, tau, size=1)[0]\n",
    "    p_new = p_prev\n",
    "    x_new= prev\n",
    "    for t in range(T):\n",
    "        x_new, p_new = proceed_leapflog(epsilon, x_new, p_new, tau)\n",
    "        \n",
    "    r = np.exp(Hamiltonian(prev, p_prev, tau) - Hamiltonian(x_new, p_new, tau))\n",
    "    # if r<0.5:\n",
    "    #     print(r)\n",
    "    u = np.random.uniform()\n",
    "    if u <= r:\n",
    "        x_accepted = x_new\n",
    "    else:\n",
    "        x_accepted = prev\n",
    "    return x_accepted\n",
    "\n",
    "def proceed_HMC(tau, epsilon, T, N, init):\n",
    "    '''\n",
    "    :param tau: 運動量pが従う正規分布の分散\n",
    "    :param epsilon: リープ・フロッグ法の1ステップあたりの状態変化の大きさ\n",
    "    :param T: リープ・フロッグ法の状態変化の回数 \n",
    "    :param N: サンプリング数\n",
    "    :param init: サンプルの初期値\n",
    "    :return: \n",
    "    '''\n",
    "    # HMCを実行する関数\n",
    "    # sample 初期化\n",
    "    sample=init\n",
    "    samples=[]\n",
    "    for i in range(N):\n",
    "        sample=hmc(sample, tau, epsilon, T)\n",
    "        samples.append(sample)\n",
    "    return samples"
   ],
   "metadata": {
    "collapsed": false,
    "pycharm": {
     "name": "#%%\n",
     "is_executing": false
    }
   }
  },
  {
   "cell_type": "code",
   "execution_count": 202,
   "outputs": [
    {
     "data": {
      "text/plain": "(array([0.03849182, 0.        , 0.01924591, 0.01924591, 0.        ,\n        0.        , 0.        , 0.        , 0.01924591, 0.01924591,\n        0.03849182, 0.01924591, 0.03849182, 0.05773774, 0.05773774,\n        0.01924591, 0.05773774, 0.05773774, 0.01924591, 0.05773774,\n        0.05773774, 0.05773774, 0.01924591, 0.19245912, 0.26944277,\n        0.21170504, 0.23095095, 0.07698365, 0.1539673 , 0.1539673 ,\n        0.23095095, 0.38491825, 0.26944277, 0.17321321, 0.25019686,\n        0.17321321, 0.53888555, 0.26944277, 0.26944277, 0.4619019 ,\n        0.38491825, 0.50039372, 0.42341007, 0.38491825, 0.40416416,\n        0.40416416, 0.40416416, 0.63511511, 0.48114781, 0.50039372,\n        0.50039372, 0.38491825, 0.48114781, 0.28868869, 0.36567234,\n        0.40416416, 0.3079346 , 0.25019686, 0.32718051, 0.28868869,\n        0.38491825, 0.34642642, 0.23095095, 0.44265599, 0.26944277,\n        0.38491825, 0.21170504, 0.36567234, 0.26944277, 0.3079346 ,\n        0.3079346 , 0.26944277, 0.21170504, 0.28868869, 0.28868869,\n        0.17321321, 0.09622956, 0.19245912, 0.1539673 , 0.07698365,\n        0.1539673 , 0.05773774, 0.07698365, 0.11547547, 0.07698365,\n        0.05773774, 0.11547547, 0.07698365, 0.        , 0.        ,\n        0.        , 0.03849182, 0.05773774, 0.        , 0.01924591,\n        0.        , 0.        , 0.        , 0.        , 0.01924591]),\n array([-2.70737801, -2.65541892, -2.60345984, -2.55150075, -2.49954167,\n        -2.44758258, -2.3956235 , -2.34366441, -2.29170533, -2.23974624,\n        -2.18778716, -2.13582807, -2.08386899, -2.0319099 , -1.97995082,\n        -1.92799174, -1.87603265, -1.82407357, -1.77211448, -1.7201554 ,\n        -1.66819631, -1.61623723, -1.56427814, -1.51231906, -1.46035997,\n        -1.40840089, -1.3564418 , -1.30448272, -1.25252363, -1.20056455,\n        -1.14860546, -1.09664638, -1.04468729, -0.99272821, -0.94076912,\n        -0.88881004, -0.83685095, -0.78489187, -0.73293278, -0.6809737 ,\n        -0.62901461, -0.57705553, -0.52509644, -0.47313736, -0.42117827,\n        -0.36921919, -0.31726011, -0.26530102, -0.21334194, -0.16138285,\n        -0.10942377, -0.05746468, -0.0055056 ,  0.04645349,  0.09841257,\n         0.15037166,  0.20233074,  0.25428983,  0.30624891,  0.358208  ,\n         0.41016708,  0.46212617,  0.51408525,  0.56604434,  0.61800342,\n         0.66996251,  0.72192159,  0.77388068,  0.82583976,  0.87779885,\n         0.92975793,  0.98171702,  1.0336761 ,  1.08563519,  1.13759427,\n         1.18955336,  1.24151244,  1.29347152,  1.34543061,  1.39738969,\n         1.44934878,  1.50130786,  1.55326695,  1.60522603,  1.65718512,\n         1.7091442 ,  1.76110329,  1.81306237,  1.86502146,  1.91698054,\n         1.96893963,  2.02089871,  2.0728578 ,  2.12481688,  2.17677597,\n         2.22873505,  2.28069414,  2.33265322,  2.38461231,  2.43657139,\n         2.48853048]),\n <a list of 100 Patch objects>)"
     },
     "metadata": {},
     "output_type": "execute_result",
     "execution_count": 202
    },
    {
     "data": {
      "text/plain": "<Figure size 432x288 with 1 Axes>",
      "image/png": "[encoded data removed]"
     },
     "metadata": {
      "needs_background": "light"
     },
     "output_type": "display_data"
    }
   ],
   "source": [
    "init = 0\n",
    "theta = proceed_HMC(tau=2, epsilon=0.1, T=1000, N=1000, init=init)\n",
    "plt.plot(x,p_data)\n",
    "plt.hist(theta, bins=100,density=True)"
   ],
   "metadata": {
    "collapsed": false,
    "pycharm": {
     "name": "#%%\n",
     "is_executing": false
    }
   }
  },
  {
   "cell_type": "code",
   "execution_count": 201,
   "outputs": [],
   "source": [
    "\n"
   ],
   "metadata": {
    "collapsed": false,
    "pycharm": {
     "name": "#%%\n",
     "is_executing": false
    }
   }
  }
 ],
 "metadata": {
  "kernelspec": {
   "display_name": "Python 3",
   "language": "python",
   "name": "python3"
  },
  "language_info": {
   "codemirror_mode": {
    "name": "ipython",
    "version": 2
   },
   "file_extension": ".py",
   "mimetype": "text/x-python",
   "name": "python",
   "nbconvert_exporter": "python",
   "pygments_lexer": "ipython2",
   "version": "2.7.6"
  },
  "pycharm": {
   "stem_cell": {
    "cell_type": "raw",
    "source": [],
    "metadata": {
     "collapsed": false
    }
   }
  }
 },
 "nbformat": 4,
 "nbformat_minor": 0
}