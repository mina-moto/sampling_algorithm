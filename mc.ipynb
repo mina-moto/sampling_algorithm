{
 "cells": [
  {
   "cell_type": "markdown",
   "metadata": {
    "pycharm": {
     "name": "#%% md\n"
    }
   },
   "source": [
    "# 単純モンテカルロ法"
   ]
  },
  {
   "cell_type": "code",
   "execution_count": 1,
   "metadata": {
    "collapsed": false,
    "jupyter": {
     "outputs_hidden": false
    },
    "pycharm": {
     "is_executing": false,
     "name": "#%%\n"
    }
   },
   "outputs": [],
   "source": [
    "import math\n",
    "import random\n",
    "import numpy as np\n",
    "import matplotlib.pyplot as plt\n",
    "from matplotlib.patches import Polygon\n",
    "from scipy import stats\n",
    "from numpy.random import choice\n",
    "from scipy import integrate\n",
    "from scipy.stats import uniform\n",
    "import scipy.integrate"
   ]
  },
  {
   "cell_type": "code",
   "execution_count": 2,
   "metadata": {
    "collapsed": false,
    "jupyter": {
     "outputs_hidden": false
    },
    "pycharm": {
     "is_executing": false,
     "name": "#%%\n"
    }
   },
   "outputs": [],
   "source": [
    "f = lambda x: x * np.exp(x**2)\n",
    "def plot_f(f,min_range, max_range):\n",
    "    # 関数fをプロット\n",
    "    x = np.linspace(0, 2, 1000)\n",
    "    y = f(x)\n",
    "    plt.plot(x, y)\n",
    "    \n",
    "    # 積分範囲を色付け\n",
    "    ix = np.arange(min_range, max_range, 0.001)\n",
    "    iy = f(ix)\n",
    "    verts = [(min_range, 0)] + list(zip(ix, iy)) + [(max_range,0)]\n",
    "    poly = Polygon(verts, facecolor='0.8', edgecolor='k')\n",
    "    plt.gca().add_patch(poly)\n",
    "\n",
    "def mc(f,min_range, max_range):\n",
    "    # 任意の関数 f(x) の [min_range, max_range] での積分をモンテカルロ法hにより近似\n",
    "    N = 1000\n",
    "    x = uniform(loc=min_range, scale=max_range-min_range).rvs(size=N)\n",
    "    return (max_range - min_range) * np.mean(f(x))"
   ]
  },
  {
   "cell_type": "code",
   "execution_count": 3,
   "metadata": {
    "collapsed": false,
    "jupyter": {
     "outputs_hidden": false
    },
    "pycharm": {
     "is_executing": false,
     "name": "#%%\n"
    }
   },
   "outputs": [
    {
     "name": "stdout",
     "output_type": "stream",
     "text": [
      "0.9621907597553748\n"
     ]
    },
    {
     "data": {
      "image/png": "[encoded data removed]",
      "text/plain": [
       "<Figure size 432x288 with 1 Axes>"
      ]
     },
     "metadata": {
      "needs_background": "light"
     },
     "output_type": "display_data"
    }
   ],
   "source": [
    "# [0,2]\n",
    "plot_f(f,0,2)\n",
    "# mcの近似値/実際に積分した値\n",
    "print(mc(f,0,2)/scipy.integrate.quad(f, 0, 2)[0])"
   ]
  },
  {
   "cell_type": "code",
   "execution_count": 4,
   "metadata": {
    "collapsed": false,
    "jupyter": {
     "outputs_hidden": false
    },
    "pycharm": {
     "is_executing": false,
     "name": "#%%\n"
    }
   },
   "outputs": [
    {
     "name": "stdout",
     "output_type": "stream",
     "text": [
      "0.4709231091150539\n"
     ]
    },
    {
     "data": {
      "image/png": "[encoded data removed]",
      "text/plain": [
       "<Figure size 432x288 with 1 Axes>"
      ]
     },
     "metadata": {
      "needs_background": "light"
     },
     "output_type": "display_data"
    }
   ],
   "source": [
    "# [0,20]\n",
    "plot_f(f,0,20)\n",
    "print(mc(f,0,20)/scipy.integrate.quad(f, 0, 20)[0])"
   ]
  },
  {
   "cell_type": "code",
   "execution_count": null,
   "metadata": {
    "collapsed": false,
    "jupyter": {
     "outputs_hidden": false
    },
    "pycharm": {
     "name": "#%%\n"
    }
   },
   "outputs": [],
   "source": [
    "\n"
   ]
  }
 ],
 "metadata": {
  "kernelspec": {
   "display_name": "Python 3",
   "language": "python",
   "name": "python3"
  },
  "language_info": {
   "codemirror_mode": {
    "name": "ipython",
    "version": 3
   },
   "file_extension": ".py",
   "mimetype": "text/x-python",
   "name": "python",
   "nbconvert_exporter": "python",
   "pygments_lexer": "ipython3",
   "version": "3.7.5"
  },
  "pycharm": {
   "stem_cell": {
    "cell_type": "raw",
    "metadata": {
     "collapsed": false
    },
    "source": []
   }
  }
 },
 "nbformat": 4,
 "nbformat_minor": 4
}
